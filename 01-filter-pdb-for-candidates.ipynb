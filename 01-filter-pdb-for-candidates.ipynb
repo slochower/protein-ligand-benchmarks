{
 "cells": [
  {
   "cell_type": "markdown",
   "metadata": {},
   "source": [
    "# Find candidate proteins for protein-ligand free energy benchmarks"
   ]
  },
  {
   "cell_type": "markdown",
   "metadata": {},
   "source": [
    "Start with the protein-ligand validation sets in BindinDB, filter for:\n",
    "\n",
    "- Small(ish)\n",
    "- No metals\n",
    "- No histidines near the ligand\n",
    "\n",
    "Would also be nice to filter for surface exposed binding pocket, but not sure exactly how to do that yet."
   ]
  },
  {
   "cell_type": "code",
   "execution_count": 2,
   "metadata": {
    "ExecuteTime": {
     "end_time": "2019-04-22T18:35:25.236823Z",
     "start_time": "2019-04-22T18:35:25.232193Z"
    }
   },
   "outputs": [],
   "source": [
    "import os\n",
    "import urllib\n",
    "import pandas as pd\n",
    "import subprocess as sp\n",
    "\n",
    "from io import StringIO\n"
   ]
  },
  {
   "cell_type": "code",
   "execution_count": 3,
   "metadata": {},
   "outputs": [],
   "source": [
    "%load_ext blackcellmagic"
   ]
  },
  {
   "cell_type": "markdown",
   "metadata": {},
   "source": [
    "## Read in the protein-ligand validation sets from BindingDB\n",
    "http://bindingdb.org/validation_sets/index.jsp"
   ]
  },
  {
   "cell_type": "code",
   "execution_count": 4,
   "metadata": {
    "ExecuteTime": {
     "end_time": "2019-04-22T17:53:45.556789Z",
     "start_time": "2019-04-22T17:53:45.551204Z"
    }
   },
   "outputs": [],
   "source": [
    "validation_set = pd.read_csv(\"validation_sets_PDBs.tsv\", names={\"PDB\"})\n"
   ]
  },
  {
   "cell_type": "markdown",
   "metadata": {},
   "source": [
    "Extract just the PDBs from this list."
   ]
  },
  {
   "cell_type": "code",
   "execution_count": 5,
   "metadata": {
    "ExecuteTime": {
     "end_time": "2019-04-22T17:53:52.611392Z",
     "start_time": "2019-04-22T17:53:52.607104Z"
    }
   },
   "outputs": [],
   "source": [
    "pdbs = pd.Series.tolist(validation_set[\"PDB\"])"
   ]
  },
  {
   "cell_type": "code",
   "execution_count": 6,
   "metadata": {
    "ExecuteTime": {
     "end_time": "2019-04-22T17:53:57.318365Z",
     "start_time": "2019-04-22T17:53:57.314158Z"
    }
   },
   "outputs": [
    {
     "name": "stdout",
     "output_type": "stream",
     "text": [
      "Starting with 778 structures...\n"
     ]
    }
   ],
   "source": [
    "print(f\"Starting with {len(pdbs)} structures...\")"
   ]
  },
  {
   "cell_type": "markdown",
   "metadata": {},
   "source": [
    "## Filter for proteins less than 200 AAs"
   ]
  },
  {
   "cell_type": "code",
   "execution_count": 7,
   "metadata": {
    "ExecuteTime": {
     "end_time": "2019-04-22T17:53:58.658538Z",
     "start_time": "2019-04-22T17:53:58.638634Z"
    }
   },
   "outputs": [],
   "source": [
    "def filter_chain_length(pdbs, length=200):\n",
    "    url = \"http://www.rcsb.org/pdb/rest/search\"\n",
    "    query_text = f\"\"\"\n",
    "<orgPdbCompositeQuery version=\"1.0\">\n",
    " <queryRefinement>\n",
    "   <queryRefinementLevel>0</queryRefinementLevel>\n",
    "      <orgPdbQuery>\n",
    "        <version>head</version>\n",
    "        <queryType>org.pdb.query.simple.StructureIdQuery</queryType>\n",
    "        <structureIdList>{' '.join(pdbs)}</structureIdList>\n",
    "      </orgPdbQuery>\n",
    " </queryRefinement>\n",
    " <queryRefinement>\n",
    "   <queryRefinementLevel>1</queryRefinementLevel>\n",
    "       <orgPdbQuery>\n",
    "        <version>head</version>\n",
    "        <queryType>org.pdb.query.simple.SequenceLengthQuery</queryType>\n",
    "        <v_sequence.chainLength.min>1</v_sequence.chainLength.min>\n",
    "        <v_sequence.chainLength.max>{length}</v_sequence.chainLength.max>\n",
    "      </orgPdbQuery>\n",
    "  </queryRefinement>\n",
    "</orgPdbCompositeQuery>\n",
    "\"\"\"\n",
    "    request = urllib.request.Request(url, data=query_text.encode())\n",
    "    try:\n",
    "        response = urllib.request.urlopen(request)\n",
    "    except urllib.error.HTTPError as e:\n",
    "        print(f\"PDB error...\")\n",
    "        return None\n",
    "\n",
    "    page = response.read()\n",
    "    page = page.decode(\"utf-8\").split()\n",
    "    return page\n"
   ]
  },
  {
   "cell_type": "code",
   "execution_count": 8,
   "metadata": {
    "ExecuteTime": {
     "end_time": "2019-04-22T17:54:22.629969Z",
     "start_time": "2019-04-22T17:54:11.837767Z"
    }
   },
   "outputs": [],
   "source": [
    "small_pdbs = filter_chain_length(pdbs, length=200)"
   ]
  },
  {
   "cell_type": "code",
   "execution_count": 9,
   "metadata": {
    "ExecuteTime": {
     "end_time": "2019-04-22T17:54:56.277044Z",
     "start_time": "2019-04-22T17:54:56.274005Z"
    }
   },
   "outputs": [],
   "source": [
    "small_pdbs = [i.split(\":\")[0] for i in small_pdbs]"
   ]
  },
  {
   "cell_type": "code",
   "execution_count": 11,
   "metadata": {
    "ExecuteTime": {
     "end_time": "2019-04-22T17:54:29.573133Z",
     "start_time": "2019-04-22T17:54:29.568497Z"
    }
   },
   "outputs": [
    {
     "name": "stdout",
     "output_type": "stream",
     "text": [
      "Filtered to 101 structures...\n"
     ]
    }
   ],
   "source": [
    "print(f\"Filtered to {len(small_pdbs)} structures...\")"
   ]
  },
  {
   "cell_type": "markdown",
   "metadata": {},
   "source": [
    "Even though these PDB codes were listed in the validation-set on BindingDB, not all of these *exact* PDB codes have ligands."
   ]
  },
  {
   "cell_type": "code",
   "execution_count": 12,
   "metadata": {
    "ExecuteTime": {
     "end_time": "2019-04-22T18:17:15.159148Z",
     "start_time": "2019-04-22T18:17:15.137997Z"
    }
   },
   "outputs": [],
   "source": [
    "def get_structures_with_ligands(pdbs):\n",
    "    url = \"http://www.rcsb.org/pdb/rest/search\"\n",
    "    query_text = f\"\"\"\n",
    "<orgPdbCompositeQuery version=\"1.0\">\n",
    " <queryRefinement>\n",
    "  <queryRefinementLevel>0</queryRefinementLevel>\n",
    "  <orgPdbQuery>\n",
    "    <version>head</version>\n",
    "    <queryType>org.pdb.query.simple.StructureIdQuery</queryType>\n",
    "    <structureIdList>{\" \".join(pdbs)}</structureIdList>\n",
    "  </orgPdbQuery>\n",
    " </queryRefinement>\n",
    " <queryRefinement>\n",
    "  <queryRefinementLevel>1</queryRefinementLevel>\n",
    "  <conjunctionType>and</conjunctionType>\n",
    "  <orgPdbQuery>\n",
    "    <version>head</version>\n",
    "    <queryType>org.pdb.query.simple.NoLigandQuery</queryType>\n",
    "    <description>Ligand Search : Has free ligands=yes</description>\n",
    "    <haveLigands>yes</haveLigands>\n",
    "  </orgPdbQuery>\n",
    " </queryRefinement>\n",
    "</orgPdbCompositeQuery>\n",
    "\"\"\"\n",
    "    request = urllib.request.Request(url, data=query_text.encode())\n",
    "    try:\n",
    "        response = urllib.request.urlopen(request)\n",
    "    except urllib.error.HTTPError as e:\n",
    "        print(f\"PDB error...\")\n",
    "        return None\n",
    "\n",
    "    page = response.read()\n",
    "    page = page.decode(\"utf-8\").split()\n",
    "    return page\n"
   ]
  },
  {
   "cell_type": "code",
   "execution_count": 13,
   "metadata": {
    "ExecuteTime": {
     "end_time": "2019-04-22T18:17:27.290201Z",
     "start_time": "2019-04-22T18:17:26.051904Z"
    }
   },
   "outputs": [],
   "source": [
    "with_ligands = get_structures_with_ligands(small_pdbs)"
   ]
  },
  {
   "cell_type": "code",
   "execution_count": 15,
   "metadata": {
    "ExecuteTime": {
     "end_time": "2019-04-22T18:17:35.306378Z",
     "start_time": "2019-04-22T18:17:35.301418Z"
    }
   },
   "outputs": [
    {
     "name": "stdout",
     "output_type": "stream",
     "text": [
      "Filtered to 97 structures...\n"
     ]
    }
   ],
   "source": [
    "print(f\"Filtered to {len(with_ligands)} structures...\")"
   ]
  },
  {
   "cell_type": "markdown",
   "metadata": {},
   "source": [
    "## Combine the small protein structures with their ligand(s) into a single `pandas` DataFrame"
   ]
  },
  {
   "cell_type": "code",
   "execution_count": 16,
   "metadata": {
    "ExecuteTime": {
     "end_time": "2019-04-22T19:21:10.719285Z",
     "start_time": "2019-04-22T19:21:10.707990Z"
    }
   },
   "outputs": [],
   "source": [
    "def combine_structure_and_ligand(pdbs):\n",
    "    url = f\"\"\"https://www.rcsb.org/pdb/rest/customReport.xml?pdbids={\",\".join(pdbs)}&customReportColumns=structureId,uniprotAcc,ligandName,ligandId,ligandMolecularWeight&service=wsfile&format=csv\"\"\"\n",
    "    request = urllib.request.Request(url)\n",
    "    try:\n",
    "        response = urllib.request.urlopen(request)\n",
    "    except urllib.error.HTTPError as e:\n",
    "        print(f\"PDB error...\")\n",
    "        return None\n",
    "\n",
    "    page = response.read()\n",
    "    return pd.read_csv(StringIO(page.decode(\"utf-8\")), sep=\",\")\n"
   ]
  },
  {
   "cell_type": "code",
   "execution_count": 17,
   "metadata": {
    "ExecuteTime": {
     "end_time": "2019-04-22T19:21:11.394047Z",
     "start_time": "2019-04-22T19:21:11.334173Z"
    }
   },
   "outputs": [],
   "source": [
    "ligand_details = combine_structure_and_ligand(with_ligands)\n"
   ]
  },
  {
   "cell_type": "code",
   "execution_count": 18,
   "metadata": {
    "ExecuteTime": {
     "end_time": "2019-04-22T19:21:17.322469Z",
     "start_time": "2019-04-22T19:21:17.280748Z"
    }
   },
   "outputs": [],
   "source": [
    "ligand_details.dropna(subset=[\"ligandName\"], inplace=True)\n"
   ]
  },
  {
   "cell_type": "markdown",
   "metadata": {},
   "source": [
    "Many structures will report multiple \"ligands\": cosolvents, glycerol, ions, and a true small molecule ligand. We're just interested in structures with a small molecule ligand, so for each structure we'll sort the \"ligands\" by molecular weight and take the protein + ligand complex with the highest molecular weight."
   ]
  },
  {
   "cell_type": "code",
   "execution_count": 19,
   "metadata": {
    "ExecuteTime": {
     "end_time": "2019-04-22T19:24:14.655431Z",
     "start_time": "2019-04-22T19:24:14.117291Z"
    }
   },
   "outputs": [],
   "source": [
    "structures_with_ligands = pd.DataFrame()\n",
    "for structure in pd.unique(ligand_details[\"structureId\"]):\n",
    "    df = ligand_details[ligand_details[\"structureId\"] == structure]\n",
    "    winner = df.sort_values(by=\"ligandMolecularWeight\", ascending=False).iloc[0]\n",
    "    structures_with_ligands = structures_with_ligands.append(winner, ignore_index=True)"
   ]
  },
  {
   "cell_type": "markdown",
   "metadata": {
    "ExecuteTime": {
     "end_time": "2019-04-22T19:32:20.101882Z",
     "start_time": "2019-04-22T19:32:20.098621Z"
    }
   },
   "source": [
    "## Filter for complexes that do not have histidine in the binding site"
   ]
  },
  {
   "cell_type": "code",
   "execution_count": 21,
   "metadata": {},
   "outputs": [],
   "source": [
    "def run_chimera(input_file=\"tmp/chimera.com\"):\n",
    "\n",
    "    sp.call(f\"chimera {input_file}\", shell=True)\n"
   ]
  },
  {
   "cell_type": "code",
   "execution_count": 22,
   "metadata": {
    "ExecuteTime": {
     "end_time": "2019-04-22T19:59:30.560221Z",
     "start_time": "2019-04-22T19:59:30.549896Z"
    }
   },
   "outputs": [],
   "source": [
    "def find_histidines(\n",
    "    pdb, ligand, input_file=\"tmp/contacts.com\", output_file=\"contacts.txt\"\n",
    "):\n",
    "    with open(input_file, \"w\") as f:\n",
    "        string = f\"\"\"\n",
    "open {pdb}\n",
    "select :{ligand} z<5\n",
    "writesel {output_file}\n",
    "stop\n",
    "        \"\"\"\n",
    "        f.write(string)\n",
    "\n",
    "\n",
    "def get_histidines(\n",
    "    histidines=[\"HIS\", \"HSE\", \"HSD\", \"HID\", \"HIP\", \"HIE\"], input_file=\"tmp/contacts.txt\"\n",
    "):\n",
    "    nearby_residues = pd.read_csv(\n",
    "        input_file, sep=\" \", names=[\"Model\", \"Res\", \"ResID.Chain\"]\n",
    "    )\n",
    "\n",
    "    total = sum(nearby_residues[\"Res\"].isin(histidines))\n",
    "    return total\n"
   ]
  },
  {
   "cell_type": "code",
   "execution_count": 23,
   "metadata": {
    "ExecuteTime": {
     "end_time": "2019-04-22T21:07:50.416735Z",
     "start_time": "2019-04-22T21:04:59.044352Z"
    }
   },
   "outputs": [],
   "source": [
    "good_pocket = dict()\n",
    "for pdb, ligand in zip(\n",
    "    structures_with_ligands[\"structureId\"], structures_with_ligands[\"ligandId\"]\n",
    "):\n",
    "    chimera_in = f\"queries/{pdb}-his.com\"\n",
    "    path = \"queries\"\n",
    "    chimera_out = f\"{pdb}-his.txt\"\n",
    "\n",
    "    find_histidines(pdb, ligand, input_file=chimera_in, output_file=chimera_out)\n",
    "    if not os.path.exists(os.path.join(path, chimera_out)):\n",
    "        run_chimera(input_file=chimera_in)\n",
    "    good_pocket[pdb] = get_histidines(input_file=os.path.join(path, chimera_out))\n"
   ]
  },
  {
   "cell_type": "code",
   "execution_count": 24,
   "metadata": {},
   "outputs": [],
   "source": [
    "structures_with_histidines = pd.DataFrame.from_dict(\n",
    "    good_pocket, orient=\"index\", columns=[\"Histidines\"]\n",
    ")\n",
    "structures_with_histidines[\"structureId\"] = structures_with_histidines.index\n"
   ]
  },
  {
   "cell_type": "code",
   "execution_count": 25,
   "metadata": {},
   "outputs": [],
   "source": [
    "structures = pd.merge(structures_with_ligands, structures_with_histidines)\n",
    "structures = structures[structures.Histidines == 0]"
   ]
  },
  {
   "cell_type": "code",
   "execution_count": 26,
   "metadata": {},
   "outputs": [
    {
     "name": "stdout",
     "output_type": "stream",
     "text": [
      "Filtered to 95 structures...\n"
     ]
    }
   ],
   "source": [
    "print(f\"Filtered to {len(structures)} structures...\")"
   ]
  },
  {
   "cell_type": "markdown",
   "metadata": {},
   "source": [
    "## Filter for complexes that don't have an unbound metal ion"
   ]
  },
  {
   "cell_type": "code",
   "execution_count": 27,
   "metadata": {
    "ExecuteTime": {
     "end_time": "2019-04-22T21:58:41.900216Z",
     "start_time": "2019-04-22T21:58:41.884713Z"
    }
   },
   "outputs": [],
   "source": [
    "def find_metals_not_in_ligand(\n",
    "    pdb,\n",
    "    ligand,\n",
    "    disallowed_mask=\":He | :Li | :Be | :B | :F | :Ne | :Na | :Mg | :Al | :Si | :Cl | :Ar | :K | :Ca | :Sc | :Ti | :V | :Cr | :Mn | :Fe | :Co | :Ni | :Cu | :Zn | :Ga | :Ge | :As | :Se | :Br | :Kr | :Rb | :Sr | :Y | :Zr | :Nb | :Mo | :Tc | :Ru | :Rh | :Pd | :Ag | :Cd | :In\",\n",
    "    input_file=\"tmp/metals.com\",\n",
    "    output_file=\"metals.txt\",\n",
    "):\n",
    "    with open(input_file, \"w\") as f:\n",
    "        string = f\"\"\"\n",
    "open {pdb}\n",
    "select {disallowed_mask} & ~:{ligand}\n",
    "writesel {output_file}\n",
    "stop\n",
    "        \"\"\"\n",
    "        f.write(string)\n",
    "\n",
    "\n",
    "def get_metals_not_in_ligand(input_file):\n",
    "    nearby_residues = pd.read_csv(\n",
    "        input_file, sep=\" \", names=[\"Model\", \"Res\", \"ResID.Chain\"]\n",
    "    )\n",
    "\n",
    "    total = len(nearby_residues[\"Res\"])\n",
    "    return total\n"
   ]
  },
  {
   "cell_type": "code",
   "execution_count": 28,
   "metadata": {
    "ExecuteTime": {
     "end_time": "2019-04-22T22:01:40.421151Z",
     "start_time": "2019-04-22T21:58:49.274164Z"
    }
   },
   "outputs": [],
   "source": [
    "metals = dict()\n",
    "for pdb, ligand in zip(structures[\"structureId\"],\n",
    "                       structures[\"ligandId\"]):\n",
    "\n",
    "    chimera_in = f\"queries/{pdb}-metal.com\"\n",
    "    path = \"queries\"\n",
    "    chimera_out = f\"{pdb}-metal.txt\"\n",
    "\n",
    "    \n",
    "    find_metals_not_in_ligand(pdb, ligand, input_file=chimera_in, output_file=chimera_out)\n",
    "    if not os.path.exists(os.path.join(path, chimera_out)):\n",
    "        run_chimera(input_file=chimera_in)\n",
    "    metals[pdb] = get_metals_not_in_ligand(input_file=os.path.join(path, chimera_out))"
   ]
  },
  {
   "cell_type": "code",
   "execution_count": 29,
   "metadata": {},
   "outputs": [],
   "source": [
    "structures_with_metals = pd.DataFrame.from_dict(\n",
    "    metals, orient=\"index\", columns=[\"Metals\"]\n",
    ")\n",
    "structures_with_metals[\"structureId\"] = structures_with_metals.index\n"
   ]
  },
  {
   "cell_type": "code",
   "execution_count": 30,
   "metadata": {},
   "outputs": [],
   "source": [
    "structures = pd.merge(structures, structures_with_metals)\n",
    "structures = structures[structures.Metals == 0]"
   ]
  },
  {
   "cell_type": "code",
   "execution_count": 31,
   "metadata": {},
   "outputs": [
    {
     "name": "stdout",
     "output_type": "stream",
     "text": [
      "Filtered to 60 structures...\n"
     ]
    }
   ],
   "source": [
    "print(f\"Filtered to {len(structures)} structures...\")"
   ]
  },
  {
   "cell_type": "code",
   "execution_count": 32,
   "metadata": {},
   "outputs": [
    {
     "data": {
      "text/html": [
       "<div>\n",
       "<style scoped>\n",
       "    .dataframe tbody tr th:only-of-type {\n",
       "        vertical-align: middle;\n",
       "    }\n",
       "\n",
       "    .dataframe tbody tr th {\n",
       "        vertical-align: top;\n",
       "    }\n",
       "\n",
       "    .dataframe thead th {\n",
       "        text-align: right;\n",
       "    }\n",
       "</style>\n",
       "<table border=\"1\" class=\"dataframe\">\n",
       "  <thead>\n",
       "    <tr style=\"text-align: right;\">\n",
       "      <th></th>\n",
       "      <th>chainId</th>\n",
       "      <th>ligandId</th>\n",
       "      <th>ligandMolecularWeight</th>\n",
       "      <th>ligandName</th>\n",
       "      <th>structureId</th>\n",
       "      <th>uniprotAcc</th>\n",
       "      <th>Histidines</th>\n",
       "      <th>Metals</th>\n",
       "    </tr>\n",
       "  </thead>\n",
       "  <tbody>\n",
       "    <tr>\n",
       "      <th>0</th>\n",
       "      <td>H</td>\n",
       "      <td>MID</td>\n",
       "      <td>521.63</td>\n",
       "      <td>1-[N-(naphthalen-2-ylsulfonyl)glycyl-4-carbami...</td>\n",
       "      <td>1ETS</td>\n",
       "      <td>P00735</td>\n",
       "      <td>0</td>\n",
       "      <td>0</td>\n",
       "    </tr>\n",
       "    <tr>\n",
       "      <th>3</th>\n",
       "      <td>B</td>\n",
       "      <td>YZ9</td>\n",
       "      <td>234.21</td>\n",
       "      <td>7-HYDROXY-2-OXO-CHROMENE-3-CARBOXYLIC ACID ETH...</td>\n",
       "      <td>1GCZ</td>\n",
       "      <td>P14174</td>\n",
       "      <td>0</td>\n",
       "      <td>0</td>\n",
       "    </tr>\n",
       "    <tr>\n",
       "      <th>6</th>\n",
       "      <td>A</td>\n",
       "      <td>MAO</td>\n",
       "      <td>339.35</td>\n",
       "      <td>5'-DEOXY-5'-[N-METHYL-N-(2-AMINOOXYETHYL) AMIN...</td>\n",
       "      <td>1I72</td>\n",
       "      <td>P17707</td>\n",
       "      <td>0</td>\n",
       "      <td>0</td>\n",
       "    </tr>\n",
       "    <tr>\n",
       "      <th>7</th>\n",
       "      <td>A</td>\n",
       "      <td>C2P</td>\n",
       "      <td>323.20</td>\n",
       "      <td>CYTIDINE-2'-MONOPHOSPHATE</td>\n",
       "      <td>1JVU</td>\n",
       "      <td>P61823</td>\n",
       "      <td>0</td>\n",
       "      <td>0</td>\n",
       "    </tr>\n",
       "    <tr>\n",
       "      <th>8</th>\n",
       "      <td>A</td>\n",
       "      <td>MGP</td>\n",
       "      <td>538.22</td>\n",
       "      <td>7-METHYL-GUANOSINE-5'-TRIPHOSPHATE</td>\n",
       "      <td>1L8B</td>\n",
       "      <td>P63073</td>\n",
       "      <td>0</td>\n",
       "      <td>0</td>\n",
       "    </tr>\n",
       "  </tbody>\n",
       "</table>\n",
       "</div>"
      ],
      "text/plain": [
       "  chainId ligandId  ligandMolecularWeight  \\\n",
       "0       H      MID                 521.63   \n",
       "3       B      YZ9                 234.21   \n",
       "6       A      MAO                 339.35   \n",
       "7       A      C2P                 323.20   \n",
       "8       A      MGP                 538.22   \n",
       "\n",
       "                                          ligandName structureId uniprotAcc  \\\n",
       "0  1-[N-(naphthalen-2-ylsulfonyl)glycyl-4-carbami...        1ETS     P00735   \n",
       "3  7-HYDROXY-2-OXO-CHROMENE-3-CARBOXYLIC ACID ETH...        1GCZ     P14174   \n",
       "6  5'-DEOXY-5'-[N-METHYL-N-(2-AMINOOXYETHYL) AMIN...        1I72     P17707   \n",
       "7                          CYTIDINE-2'-MONOPHOSPHATE        1JVU     P61823   \n",
       "8                 7-METHYL-GUANOSINE-5'-TRIPHOSPHATE        1L8B     P63073   \n",
       "\n",
       "   Histidines  Metals  \n",
       "0           0       0  \n",
       "3           0       0  \n",
       "6           0       0  \n",
       "7           0       0  \n",
       "8           0       0  "
      ]
     },
     "execution_count": 32,
     "metadata": {},
     "output_type": "execute_result"
    }
   ],
   "source": [
    "structures.head()"
   ]
  },
  {
   "cell_type": "code",
   "execution_count": 33,
   "metadata": {},
   "outputs": [],
   "source": [
    "def chain_length(pdbs):\n",
    "    url = f\"\"\"https://www.rcsb.org/pdb/rest/customReport.xml?pdbids={\",\".join(pdbs)}&customReportColumns=structureId,chainLength&service=wsfile&format=csv\"\"\"\n",
    "    request = urllib.request.Request(url)\n",
    "    try:\n",
    "        response = urllib.request.urlopen(request)\n",
    "    except urllib.error.HTTPError as e:\n",
    "        print(f\"PDB error...\")\n",
    "        return None\n",
    "\n",
    "    page = response.read()\n",
    "    return pd.read_csv(StringIO(page.decode(\"utf-8\")), sep=\",\")\n"
   ]
  },
  {
   "cell_type": "markdown",
   "metadata": {},
   "source": [
    "## Filter to make sure the chain the ligand is part of is under the threshold"
   ]
  },
  {
   "cell_type": "code",
   "execution_count": 34,
   "metadata": {},
   "outputs": [],
   "source": [
    "queries = [\".\".join([pdb, chain]) for pdb, chain in zip(structures[\"structureId\"], structures[\"chainId\"])]"
   ]
  },
  {
   "cell_type": "code",
   "execution_count": 35,
   "metadata": {},
   "outputs": [],
   "source": [
    "chain_lengths = chain_length(queries)"
   ]
  },
  {
   "cell_type": "code",
   "execution_count": 36,
   "metadata": {},
   "outputs": [],
   "source": [
    "structures = pd.merge(structures, chain_lengths)"
   ]
  },
  {
   "cell_type": "code",
   "execution_count": 41,
   "metadata": {
    "scrolled": false
   },
   "outputs": [
    {
     "data": {
      "text/html": [
       "<div>\n",
       "<style scoped>\n",
       "    .dataframe tbody tr th:only-of-type {\n",
       "        vertical-align: middle;\n",
       "    }\n",
       "\n",
       "    .dataframe tbody tr th {\n",
       "        vertical-align: top;\n",
       "    }\n",
       "\n",
       "    .dataframe thead th {\n",
       "        text-align: right;\n",
       "    }\n",
       "</style>\n",
       "<table border=\"1\" class=\"dataframe\">\n",
       "  <thead>\n",
       "    <tr style=\"text-align: right;\">\n",
       "      <th></th>\n",
       "      <th>chainId</th>\n",
       "      <th>ligandId</th>\n",
       "      <th>ligandMolecularWeight</th>\n",
       "      <th>ligandName</th>\n",
       "      <th>structureId</th>\n",
       "      <th>uniprotAcc</th>\n",
       "      <th>Histidines</th>\n",
       "      <th>Metals</th>\n",
       "      <th>chainLength</th>\n",
       "    </tr>\n",
       "  </thead>\n",
       "  <tbody>\n",
       "    <tr>\n",
       "      <th>19</th>\n",
       "      <td>A</td>\n",
       "      <td>UA3</td>\n",
       "      <td>324.18</td>\n",
       "      <td>URACIL ARABINOSE-3'-PHOSPHATE</td>\n",
       "      <td>1W4O</td>\n",
       "      <td>P61823</td>\n",
       "      <td>0</td>\n",
       "      <td>0</td>\n",
       "      <td>124</td>\n",
       "    </tr>\n",
       "    <tr>\n",
       "      <th>14</th>\n",
       "      <td>A</td>\n",
       "      <td>853</td>\n",
       "      <td>585.65</td>\n",
       "      <td>5-[2-ACETYLAMINO-2-(1-BIPHENYL-4-YLMETHYL-2-OX...</td>\n",
       "      <td>1O48</td>\n",
       "      <td>P12931</td>\n",
       "      <td>0</td>\n",
       "      <td>0</td>\n",
       "      <td>108</td>\n",
       "    </tr>\n",
       "    <tr>\n",
       "      <th>15</th>\n",
       "      <td>A</td>\n",
       "      <td>493</td>\n",
       "      <td>637.62</td>\n",
       "      <td>{4-[2-ACETYLAMINO-2-(1-BIPHENYL-4-YLMETHYL-2-O...</td>\n",
       "      <td>1O49</td>\n",
       "      <td>P12931</td>\n",
       "      <td>0</td>\n",
       "      <td>0</td>\n",
       "      <td>108</td>\n",
       "    </tr>\n",
       "    <tr>\n",
       "      <th>51</th>\n",
       "      <td>C</td>\n",
       "      <td>LPO</td>\n",
       "      <td>663.03</td>\n",
       "      <td>(3S,4R)-N-[2-chloro-5-(2-methoxyethyl)benzyl]-...</td>\n",
       "      <td>3OAD</td>\n",
       "      <td>P00797</td>\n",
       "      <td>0</td>\n",
       "      <td>0</td>\n",
       "      <td>166</td>\n",
       "    </tr>\n",
       "    <tr>\n",
       "      <th>4</th>\n",
       "      <td>A</td>\n",
       "      <td>MGP</td>\n",
       "      <td>538.22</td>\n",
       "      <td>7-METHYL-GUANOSINE-5'-TRIPHOSPHATE</td>\n",
       "      <td>1L8B</td>\n",
       "      <td>P63073</td>\n",
       "      <td>0</td>\n",
       "      <td>0</td>\n",
       "      <td>190</td>\n",
       "    </tr>\n",
       "    <tr>\n",
       "      <th>18</th>\n",
       "      <td>B</td>\n",
       "      <td>PAX</td>\n",
       "      <td>809.36</td>\n",
       "      <td>5'-PHOSPHOTHYMIDINE (3'-5')-PYROPHOSPHATE ADEN...</td>\n",
       "      <td>1U1B</td>\n",
       "      <td>P61823</td>\n",
       "      <td>0</td>\n",
       "      <td>0</td>\n",
       "      <td>124</td>\n",
       "    </tr>\n",
       "    <tr>\n",
       "      <th>17</th>\n",
       "      <td>A</td>\n",
       "      <td>C3P</td>\n",
       "      <td>323.20</td>\n",
       "      <td>CYTIDINE-3'-MONOPHOSPHATE</td>\n",
       "      <td>1RPF</td>\n",
       "      <td>P61823</td>\n",
       "      <td>0</td>\n",
       "      <td>0</td>\n",
       "      <td>124</td>\n",
       "    </tr>\n",
       "    <tr>\n",
       "      <th>11</th>\n",
       "      <td>A</td>\n",
       "      <td>852</td>\n",
       "      <td>629.66</td>\n",
       "      <td>2-{4-[2-ACETYLAMINO-2-(1-BIPHENYL-4-YLMETHYL-2...</td>\n",
       "      <td>1O44</td>\n",
       "      <td>P12931</td>\n",
       "      <td>0</td>\n",
       "      <td>0</td>\n",
       "      <td>108</td>\n",
       "    </tr>\n",
       "    <tr>\n",
       "      <th>36</th>\n",
       "      <td>A</td>\n",
       "      <td>TXS</td>\n",
       "      <td>295.33</td>\n",
       "      <td>1-(2,5-dideoxy-5-pyrrolidin-1-yl-beta-L-erythr...</td>\n",
       "      <td>3D8Z</td>\n",
       "      <td>P61823</td>\n",
       "      <td>0</td>\n",
       "      <td>0</td>\n",
       "      <td>124</td>\n",
       "    </tr>\n",
       "    <tr>\n",
       "      <th>1</th>\n",
       "      <td>B</td>\n",
       "      <td>YZ9</td>\n",
       "      <td>234.21</td>\n",
       "      <td>7-HYDROXY-2-OXO-CHROMENE-3-CARBOXYLIC ACID ETH...</td>\n",
       "      <td>1GCZ</td>\n",
       "      <td>P14174</td>\n",
       "      <td>0</td>\n",
       "      <td>0</td>\n",
       "      <td>122</td>\n",
       "    </tr>\n",
       "  </tbody>\n",
       "</table>\n",
       "</div>"
      ],
      "text/plain": [
       "   chainId ligandId  ligandMolecularWeight  \\\n",
       "19       A      UA3                 324.18   \n",
       "14       A      853                 585.65   \n",
       "15       A      493                 637.62   \n",
       "51       C      LPO                 663.03   \n",
       "4        A      MGP                 538.22   \n",
       "18       B      PAX                 809.36   \n",
       "17       A      C3P                 323.20   \n",
       "11       A      852                 629.66   \n",
       "36       A      TXS                 295.33   \n",
       "1        B      YZ9                 234.21   \n",
       "\n",
       "                                           ligandName structureId uniprotAcc  \\\n",
       "19                      URACIL ARABINOSE-3'-PHOSPHATE        1W4O     P61823   \n",
       "14  5-[2-ACETYLAMINO-2-(1-BIPHENYL-4-YLMETHYL-2-OX...        1O48     P12931   \n",
       "15  {4-[2-ACETYLAMINO-2-(1-BIPHENYL-4-YLMETHYL-2-O...        1O49     P12931   \n",
       "51  (3S,4R)-N-[2-chloro-5-(2-methoxyethyl)benzyl]-...        3OAD     P00797   \n",
       "4                  7-METHYL-GUANOSINE-5'-TRIPHOSPHATE        1L8B     P63073   \n",
       "18  5'-PHOSPHOTHYMIDINE (3'-5')-PYROPHOSPHATE ADEN...        1U1B     P61823   \n",
       "17                          CYTIDINE-3'-MONOPHOSPHATE        1RPF     P61823   \n",
       "11  2-{4-[2-ACETYLAMINO-2-(1-BIPHENYL-4-YLMETHYL-2...        1O44     P12931   \n",
       "36  1-(2,5-dideoxy-5-pyrrolidin-1-yl-beta-L-erythr...        3D8Z     P61823   \n",
       "1   7-HYDROXY-2-OXO-CHROMENE-3-CARBOXYLIC ACID ETH...        1GCZ     P14174   \n",
       "\n",
       "    Histidines  Metals  chainLength  \n",
       "19           0       0          124  \n",
       "14           0       0          108  \n",
       "15           0       0          108  \n",
       "51           0       0          166  \n",
       "4            0       0          190  \n",
       "18           0       0          124  \n",
       "17           0       0          124  \n",
       "11           0       0          108  \n",
       "36           0       0          124  \n",
       "1            0       0          122  "
      ]
     },
     "execution_count": 41,
     "metadata": {},
     "output_type": "execute_result"
    }
   ],
   "source": [
    "structures[structures.chainLength < 200].sample(10)"
   ]
  },
  {
   "cell_type": "code",
   "execution_count": 40,
   "metadata": {},
   "outputs": [],
   "source": [
    "structures[structures.chainLength < 200].to_csv(\"structures.csv\")"
   ]
  },
  {
   "cell_type": "code",
   "execution_count": 95,
   "metadata": {},
   "outputs": [],
   "source": [
    "def render_pymol(\n",
    "    pdb,\n",
    "    ligand,\n",
    "    input_file=\"tmp/snapshot.com\",\n",
    "):\n",
    "    with open(input_file, \"w\") as f:\n",
    "        string = f\"\"\"\\\n",
    "fetch {pdb}, async=0\n",
    "\n",
    "hide\n",
    "show cartoon\n",
    "show sticks, resn {ligand}\n",
    "\n",
    "color green, resn {ligand}\n",
    "color atomic, resn and not elem C\n",
    "\n",
    "color grey80, polymer\n",
    "show surface, polymer\n",
    "set transparency, 0.3\n",
    "\n",
    "bg_color white\n",
    "\n",
    "center resn {ligand}\n",
    "zoom resn {ligand}, 30\n",
    "\n",
    "set cartoon_fancy_helices\n",
    "png {pdb}.png, dpi=150\n",
    "\n",
    "        \"\"\"\n",
    "        f.write(string)\n"
   ]
  },
  {
   "cell_type": "code",
   "execution_count": 97,
   "metadata": {},
   "outputs": [],
   "source": [
    "for pdb, ligand in zip(structures[\"structureId\"],\n",
    "                       structures[\"ligandId\"]):\n",
    "\n",
    "    pymol_in = f\"queries/{pdb}-pymol.pml\"\n",
    "    path = \"queries\"\n",
    "    \n",
    "    if not os.path.exists(os.path.join(path, pymol_in)):\n",
    "        render_pymol(pdb=pdb,\n",
    "                     ligand=ligand,\n",
    "                     input_file=pymol_in)\n",
    "        sp.call(f\"pymol -cq {pymol_in}\", shell=True)"
   ]
  },
  {
   "cell_type": "code",
   "execution_count": null,
   "metadata": {},
   "outputs": [],
   "source": []
  }
 ],
 "metadata": {
  "kernelspec": {
   "display_name": "Python 3",
   "language": "python",
   "name": "python3"
  },
  "language_info": {
   "codemirror_mode": {
    "name": "ipython",
    "version": 3
   },
   "file_extension": ".py",
   "mimetype": "text/x-python",
   "name": "python",
   "nbconvert_exporter": "python",
   "pygments_lexer": "ipython3",
   "version": "3.7.3"
  }
 },
 "nbformat": 4,
 "nbformat_minor": 2
}
